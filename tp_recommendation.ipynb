{
 "cells": [
  {
   "cell_type": "markdown",
   "metadata": {},
   "source": [
    "# TP Recommendation"
   ]
  },
  {
   "cell_type": "code",
   "execution_count": 1,
   "metadata": {
    "collapsed": false
   },
   "outputs": [],
   "source": [
    "from movielensutils import load_movielens, objective\n",
    "import numpy as np\n",
    "from scipy.sparse import linalg"
   ]
  },
  {
   "cell_type": "code",
   "execution_count": 2,
   "metadata": {
    "collapsed": false
   },
   "outputs": [
    {
     "ename": "FileNotFoundError",
     "evalue": "[Errno 2] No such file or directory: './ml-100k/u.data'",
     "output_type": "error",
     "traceback": [
      "\u001b[0;31m---------------------------------------------------------------------------\u001b[0m",
      "\u001b[0;31mFileNotFoundError\u001b[0m                         Traceback (most recent call last)",
      "\u001b[0;32m<ipython-input-2-05d7c46e8ad3>\u001b[0m in \u001b[0;36m<module>\u001b[0;34m()\u001b[0m\n\u001b[0;32m----> 1\u001b[0;31m \u001b[0mR\u001b[0m\u001b[0;34m,\u001b[0m \u001b[0mmask\u001b[0m \u001b[0;34m=\u001b[0m \u001b[0mload_movielens\u001b[0m\u001b[0;34m(\u001b[0m\u001b[0;34m\"./ml-100k/u.data\"\u001b[0m\u001b[0;34m)\u001b[0m\u001b[0;34m\u001b[0m\u001b[0m\n\u001b[0m\u001b[1;32m      2\u001b[0m \u001b[0mprint\u001b[0m\u001b[0;34m(\u001b[0m\u001b[0mR\u001b[0m\u001b[0;34m.\u001b[0m\u001b[0mshape\u001b[0m\u001b[0;34m)\u001b[0m\u001b[0;34m\u001b[0m\u001b[0m\n",
      "\u001b[0;32m/home/soso/Documents/cours/telecom/deuxieme_annee/SD211/movielensutils.py\u001b[0m in \u001b[0;36mload_movielens\u001b[0;34m(filename, minidata)\u001b[0m\n\u001b[1;32m     13\u001b[0m     \"\"\"\n\u001b[1;32m     14\u001b[0m \u001b[0;34m\u001b[0m\u001b[0m\n\u001b[0;32m---> 15\u001b[0;31m     \u001b[0mdata\u001b[0m \u001b[0;34m=\u001b[0m \u001b[0mnp\u001b[0m\u001b[0;34m.\u001b[0m\u001b[0mloadtxt\u001b[0m\u001b[0;34m(\u001b[0m\u001b[0mfilename\u001b[0m\u001b[0;34m,\u001b[0m \u001b[0mdtype\u001b[0m\u001b[0;34m=\u001b[0m\u001b[0mint\u001b[0m\u001b[0;34m)\u001b[0m\u001b[0;34m\u001b[0m\u001b[0m\n\u001b[0m\u001b[1;32m     16\u001b[0m \u001b[0;34m\u001b[0m\u001b[0m\n\u001b[1;32m     17\u001b[0m     R = sparse.coo_matrix((data[:, 2], (data[:, 0]-1, data[:, 1]-1)),\n",
      "\u001b[0;32m/home/soso/anaconda3/lib/python3.5/site-packages/numpy/lib/npyio.py\u001b[0m in \u001b[0;36mloadtxt\u001b[0;34m(fname, dtype, comments, delimiter, converters, skiprows, usecols, unpack, ndmin)\u001b[0m\n\u001b[1;32m    803\u001b[0m                 \u001b[0mfh\u001b[0m \u001b[0;34m=\u001b[0m \u001b[0miter\u001b[0m\u001b[0;34m(\u001b[0m\u001b[0mopen\u001b[0m\u001b[0;34m(\u001b[0m\u001b[0mfname\u001b[0m\u001b[0;34m,\u001b[0m \u001b[0;34m'U'\u001b[0m\u001b[0;34m)\u001b[0m\u001b[0;34m)\u001b[0m\u001b[0;34m\u001b[0m\u001b[0m\n\u001b[1;32m    804\u001b[0m             \u001b[0;32melse\u001b[0m\u001b[0;34m:\u001b[0m\u001b[0;34m\u001b[0m\u001b[0m\n\u001b[0;32m--> 805\u001b[0;31m                 \u001b[0mfh\u001b[0m \u001b[0;34m=\u001b[0m \u001b[0miter\u001b[0m\u001b[0;34m(\u001b[0m\u001b[0mopen\u001b[0m\u001b[0;34m(\u001b[0m\u001b[0mfname\u001b[0m\u001b[0;34m)\u001b[0m\u001b[0;34m)\u001b[0m\u001b[0;34m\u001b[0m\u001b[0m\n\u001b[0m\u001b[1;32m    806\u001b[0m         \u001b[0;32melse\u001b[0m\u001b[0;34m:\u001b[0m\u001b[0;34m\u001b[0m\u001b[0m\n\u001b[1;32m    807\u001b[0m             \u001b[0mfh\u001b[0m \u001b[0;34m=\u001b[0m \u001b[0miter\u001b[0m\u001b[0;34m(\u001b[0m\u001b[0mfname\u001b[0m\u001b[0;34m)\u001b[0m\u001b[0;34m\u001b[0m\u001b[0m\n",
      "\u001b[0;31mFileNotFoundError\u001b[0m: [Errno 2] No such file or directory: './ml-100k/u.data'"
     ]
    }
   ],
   "source": [
    "R, mask = load_movielens(\"./ml-100k/u.data\")\n",
    "print(R.shape)"
   ]
  },
  {
   "cell_type": "markdown",
   "metadata": {},
   "source": [
    "### Question 1.1\n",
    "La matrice a la bonne taille. l'option minidata permet de prendre une  portion de la matrice R et mask R est de taille 100x200 si minidata=True."
   ]
  },
  {
   "cell_type": "code",
   "execution_count": 4,
   "metadata": {
    "collapsed": false,
    "scrolled": true
   },
   "outputs": [
    {
     "name": "stdout",
     "output_type": "stream",
     "text": [
      "[[ 5.  3.  4.  3.  3.  5.  4.  1.  5.  3.]\n",
      " [ 4.  0.  0.  0.  0.  0.  0.  0.  0.  2.]\n",
      " [ 0.  0.  0.  0.  0.  0.  0.  0.  0.  0.]\n",
      " [ 0.  0.  0.  0.  0.  0.  0.  0.  0.  0.]\n",
      " [ 4.  3.  0.  0.  0.  0.  0.  0.  0.  0.]\n",
      " [ 4.  0.  0.  0.  0.  0.  2.  4.  4.  0.]\n",
      " [ 0.  0.  0.  5.  0.  0.  5.  5.  5.  4.]\n",
      " [ 0.  0.  0.  0.  0.  0.  3.  0.  0.  0.]\n",
      " [ 0.  0.  0.  0.  0.  5.  4.  0.  0.  0.]\n",
      " [ 4.  0.  0.  4.  0.  0.  4.  0.  4.  0.]]\n",
      "[[ True  True  True  True  True  True  True  True  True  True]\n",
      " [ True False False False False False False False False  True]\n",
      " [False False False False False False False False False False]\n",
      " [False False False False False False False False False False]\n",
      " [ True  True False False False False False False False False]\n",
      " [ True False False False False False  True  True  True False]\n",
      " [False False False  True False False  True  True  True  True]\n",
      " [False False False False False False  True False False False]\n",
      " [False False False False False  True  True False False False]\n",
      " [ True False False  True False False  True False  True False]]\n",
      "nombre de films notés 100000 \n",
      "nombre de film si tous le monde notait tous les films 1586126\n"
     ]
    }
   ],
   "source": [
    "print(R[0:10, 0:10])\n",
    "print(mask[0:10,0:10])\n",
    "# pour savoir combien de films ont été notés, on regarde le nombre de valeur positive dans le mask\n",
    "print(\"nombre de films notés %d \" % np.sum(mask))\n",
    "print(\"nombre de film si tous le monde notait tous les films %d\"%(R.shape[0]*R.shape[1]))"
   ]
  },
  {
   "cell_type": "markdown",
   "metadata": {},
   "source": [
    "### Question 1.2\n",
    "\n",
    "Les lignes de la matrice R représente les différent utilisateurs. Les colonnes représentent les différents film. Il y a donc 943 utilisateurs et 1682 films.\n",
    "On a 100000 films notés sur 1586126."
   ]
  },
  {
   "cell_type": "markdown",
   "metadata": {},
   "source": [
    "### Question 1.3\n",
    "$Q \\rightarrow \\frac{\\rho}{2}||Q - C_{st}||^2$ est une fonction convexe si $\\rho>0$\n",
    "La somme de fonction convexe est convexe\n",
    "Cependant, $Q,P \\rightarrow \\frac{1}{2}||1_{K}\\circ (R - QP)||_{F}^2$ n'est pas forcément convexe.\n",
    "En effet, Soit \n",
    "$$\n",
    "h : x,y \\rightarrow (xy)^2\n",
    "$$\n",
    "en effet, soit $\\lambda \\in ]0,1[$\n",
    "$$\n",
    "h(\\lambda(1,0) + (1-\\lambda)(0,1))=\\lambda^2(1-\\lambda)^2 > \\lambda h(1,0)+ (1-\\lambda)h(0,1)=0\n",
    "$$\n",
    "Donc la fonction objective :\n",
    "$$\n",
    "Q,P \\rightarrow \\frac{1}{2}||1_{K}\\circ (R - QP)||_{F}^2 + \\frac{\\rho}{2}||Q||_{F}^2 + \\frac{\\rho}{2}||P||_{F}^2\n",
    "$$\n",
    "n'est pas convexe.\n",
    "\n",
    "Supposons $Q$ constant.\n",
    "\n",
    "Soit $$f : P \\rightarrow \\frac{1}{2}||1_{K}\\circ (R - QP)||_{F}^2 + \\frac{\\rho}{2}||Q||_{F}^2 + \\frac{\\rho}{2}||P||_{F}^2$$\n",
    "$1_{K}$ est une application linéaire. Appliquer $1_{K}$ revient à multiplier par une matrice. appelons là $M_K$.\n",
    "Soit $H \\in \\mathbf{R}^{|C|\\times|I| }$. On a:\n",
    "$$\n",
    "f(P+H) =  \\frac{1}{2}||M_K (R - QP - QH||_{F}^2 + \\frac{\\rho}{2}||Q||_{F}^2 + \\frac{\\rho}{2}||P+H||_{F}^2 \\\\\n",
    "$$\n",
    "or\n",
    "$$\n",
    "\\frac{1}{2}||M_K (R - QP - QH||_{F}^2 = \\frac{1}{2}||M_K (R - QP||^2 + \\frac{1}{2}||M_KQH||^2 + <M_K(R-QP),M_KQH> \\\\\n",
    "= \\frac{1}{2}||M_K (R - QP||^2 + \\frac{1}{2}||M_KQH||^2 + <(M_KQ)^T M_k(R-QP),H>\n",
    "$$\n",
    "De plus :\n",
    "$$\n",
    "\\frac{\\rho}{2}||P+H||_{F}^2 = \\frac{\\rho}{2}(||P||^2 + ||Q||^2 2<P,H>)\n",
    "$$\n",
    "On en déduit : \n",
    "$$\n",
    "\\nabla f = Q^TM_K^TM_K(R-QP)P^T + \\rho P\n",
    "$$\n",
    "On peut appliquer un calcul très similaire pour Q\n",
    "Le gradient de la fonction objective a donc cette forme :\n",
    "$$\n",
    "(Q^TM_K^TM_K(-R+QP) + \\rho P, M_K^TM_K(-R+QP)P^T + \\rho Q)\n",
    "$$\n",
    "Si on regarde le gradient de la fonction $h$ defini ci-dessus, on remarque que le gradient comporte des termes\n",
    "quadratique. Le gradient de la fonction objective n'est pas lipchitzien."
   ]
  },
  {
   "cell_type": "markdown",
   "metadata": {},
   "source": [
    "## Trouver $P$ quand $Q_0$ fixé\n",
    "\n",
    "### Question 2.1\n",
    "\n",
    "\n",
    "$Q_0$ est une matrice positive. Donc $g$ est convexe.\n",
    "On a :\n",
    "$$\n",
    "\\nabla g = Q_0^TM_K^TM_K(-R+Q_0P) + \\rho P\n",
    "$$\n",
    "\n",
    "### Question 2.2"
   ]
  },
  {
   "cell_type": "code",
   "execution_count": 24,
   "metadata": {
    "collapsed": false
   },
   "outputs": [
    {
     "name": "stdout",
     "output_type": "stream",
     "text": [
      "[ 145.87261327  158.21191449  159.15359872  217.84622472  244.83634567\n",
      "  640.63362257]\n"
     ]
    }
   ],
   "source": [
    "# calcul de la fonction objective et du gradient\n",
    "u,s,vh = linalg.svds(R)\n",
    "Q0 = u \n",
    "P0 = vh\n",
    "print(s)"
   ]
  }
 ],
 "metadata": {
  "kernelspec": {
   "display_name": "Python [Root]",
   "language": "python",
   "name": "Python [Root]"
  },
  "language_info": {
   "codemirror_mode": {
    "name": "ipython",
    "version": 3
   },
   "file_extension": ".py",
   "mimetype": "text/x-python",
   "name": "python",
   "nbconvert_exporter": "python",
   "pygments_lexer": "ipython3",
   "version": "3.5.2"
  }
 },
 "nbformat": 4,
 "nbformat_minor": 0
}
