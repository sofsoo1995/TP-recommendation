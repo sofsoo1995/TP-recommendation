{
 "cells": [
  {
   "cell_type": "markdown",
   "metadata": {},
   "source": [
    "# TP Recommendation"
   ]
  },
  {
   "cell_type": "code",
   "execution_count": 2,
   "metadata": {
    "collapsed": false
   },
   "outputs": [],
   "source": [
    "from movielensutils import load_movielens, objective\n",
    "import numpy as np\n",
    "from scipy.sparse import linalg"
   ]
  },
  {
   "cell_type": "code",
   "execution_count": 3,
   "metadata": {
    "collapsed": false
   },
   "outputs": [
    {
     "name": "stdout",
     "output_type": "stream",
     "text": [
      "(943, 1682)\n"
     ]
    }
   ],
   "source": [
    "R, mask = load_movielens(\"./ml-100k/u.data\")\n",
    "print(R.shape)"
   ]
  },
  {
   "cell_type": "markdown",
   "metadata": {},
   "source": [
    "### Question 1.1\n",
    "La matrice a la bonne taille. l'option minidata permet de prendre une  portion de la matrice R et mask R est de taille 100x200 si minidata=True."
   ]
  },
  {
   "cell_type": "code",
   "execution_count": 4,
   "metadata": {
    "collapsed": false,
    "scrolled": true
   },
   "outputs": [
    {
     "name": "stdout",
     "output_type": "stream",
     "text": [
      "[[ 5.  3.  4.  3.  3.  5.  4.  1.  5.  3.]\n",
      " [ 4.  0.  0.  0.  0.  0.  0.  0.  0.  2.]\n",
      " [ 0.  0.  0.  0.  0.  0.  0.  0.  0.  0.]\n",
      " [ 0.  0.  0.  0.  0.  0.  0.  0.  0.  0.]\n",
      " [ 4.  3.  0.  0.  0.  0.  0.  0.  0.  0.]\n",
      " [ 4.  0.  0.  0.  0.  0.  2.  4.  4.  0.]\n",
      " [ 0.  0.  0.  5.  0.  0.  5.  5.  5.  4.]\n",
      " [ 0.  0.  0.  0.  0.  0.  3.  0.  0.  0.]\n",
      " [ 0.  0.  0.  0.  0.  5.  4.  0.  0.  0.]\n",
      " [ 4.  0.  0.  4.  0.  0.  4.  0.  4.  0.]]\n",
      "[[ True  True  True  True  True  True  True  True  True  True]\n",
      " [ True False False False False False False False False  True]\n",
      " [False False False False False False False False False False]\n",
      " [False False False False False False False False False False]\n",
      " [ True  True False False False False False False False False]\n",
      " [ True False False False False False  True  True  True False]\n",
      " [False False False  True False False  True  True  True  True]\n",
      " [False False False False False False  True False False False]\n",
      " [False False False False False  True  True False False False]\n",
      " [ True False False  True False False  True False  True False]]\n",
      "nombre de films notés 100000 \n",
      "nombre de film si tous le monde notait tous les films 1586126\n"
     ]
    }
   ],
   "source": [
    "print(R[0:10, 0:10])\n",
    "print(mask[0:10,0:10])\n",
    "# pour savoir combien de films ont été notés, on regarde le nombre de valeur positive dans le mask\n",
    "print(\"nombre de films notés %d \" % np.sum(mask))\n",
    "print(\"nombre de film si tous le monde notait tous les films %d\"%(R.shape[0]*R.shape[1]))"
   ]
  },
  {
   "cell_type": "markdown",
   "metadata": {},
   "source": [
    "### Question 1.2\n",
    "\n",
    "Les lignes de la matrice R représente les différent utilisateurs. Les colonnes représentent les différents film. Il y a donc 943 utilisateurs et 1682 films.\n",
    "On a 100000 films notés sur 1586126."
   ]
  },
  {
   "cell_type": "markdown",
   "metadata": {},
   "source": [
    "### Question 1.3\n",
    "$Q \\rightarrow \\frac{\\rho}{2}||Q - C_{st}||^2$ est une fonction convexe si $\\rho>0$\n",
    "La somme de fonction convexe est convexe\n",
    "Cependant, $Q,P \\rightarrow \\frac{1}{2}||1_{K}\\circ (R - QP)||_{F}^2$ n'est pas forcément convexe.\n",
    "En effet, Soit \n",
    "$$\n",
    "h : x,y \\rightarrow (xy)^2\n",
    "$$\n",
    "en effet, soit $\\lambda \\in ]0,1[$\n",
    "$$\n",
    "h(\\lambda(1,0) + (1-\\lambda)(0,1))=\\lambda^2(1-\\lambda)^2 > \\lambda h(1,0)+ (1-\\lambda)h(0,1)=0\n",
    "$$\n",
    "Donc la fonction objective :\n",
    "$$\n",
    "Q,P \\rightarrow \\frac{1}{2}||1_{K}\\circ (R - QP)||_{F}^2 + \\frac{\\rho}{2}||Q||_{F}^2 + \\frac{\\rho}{2}||P||_{F}^2\n",
    "$$\n",
    "n'est pas convexe.\n",
    "\n",
    "Supposons $Q$ constant.\n",
    "\n",
    "Soit $$f : P \\rightarrow \\frac{1}{2}||1_{K}\\circ (R - QP)||_{F}^2 + \\frac{\\rho}{2}||Q||_{F}^2 + \\frac{\\rho}{2}||P||_{F}^2$$\n",
    "$1_{K}$ est une application linéaire. Appliquer $1_{K}$ revient à multiplier par une matrice. appelons là $M_K$.\n",
    "Soit $H \\in \\mathbf{R}^{|C|\\times|I| }$. On a:\n",
    "$$\n",
    "f(P+H) =  \\frac{1}{2}||M_K (R - QP - QH||_{F}^2 + \\frac{\\rho}{2}||Q||_{F}^2 + \\frac{\\rho}{2}||P+H||_{F}^2 \\\\\n",
    "$$\n",
    "or\n",
    "$$\n",
    "\\frac{1}{2}||M_K (R - QP - QH||_{F}^2 = \\frac{1}{2}||M_K (R - QP||^2 + \\frac{1}{2}||M_KQH||^2 + <M_K(R-QP),M_KQH> \\\\\n",
    "= \\frac{1}{2}||M_K (R - QP||^2 + \\frac{1}{2}||M_KQH||^2 + <(M_KQ)^T M_k(R-QP),H>\n",
    "$$\n",
    "De plus :\n",
    "$$\n",
    "\\frac{\\rho}{2}||P+H||_{F}^2 = \\frac{\\rho}{2}(||P||^2 + ||Q||^2 2<P,H>)\n",
    "$$\n",
    "On en déduit : \n",
    "$$\n",
    "\\nabla f = Q^TM_K^TM_K(R-QP)P^T + \\rho P\n",
    "$$\n",
    "On peut appliquer un calcul très similaire pour Q\n",
    "Le gradient de la fonction objective a donc cette forme :\n",
    "$$\n",
    "(Q^TM_K^TM_K(-R+QP) + \\rho P, M_K^TM_K(-R+QP)P^T + \\rho Q)\n",
    "$$\n",
    "Si on regarde le gradient de la fonction $h$ defini ci-dessus, on remarque que le gradient comporte des termes\n",
    "quadratique. Le gradient de la fonction objective n'est pas lipchitzien."
   ]
  },
  {
   "cell_type": "markdown",
   "metadata": {},
   "source": [
    "## Trouver $P$ quand $Q_0$ fixé\n",
    "\n",
    "### Question 2.1\n",
    "\n",
    "\n",
    "$Q_0$ est une matrice positive. Donc $g$ est convexe.\n",
    "On a :\n",
    "$$\n",
    "\\nabla g = Q_0^TM_K^TM_K(-R+Q_0P) + \\rho P\n",
    "$$\n",
    "\n",
    "### Question 2.2"
   ]
  },
  {
   "cell_type": "code",
   "execution_count": 5,
   "metadata": {
    "collapsed": false
   },
   "outputs": [],
   "source": [
    "# calcul de la fonction objective et du gradient\n",
    "u,s,vh = linalg.svds(R)\n",
    "Q0 = u \n",
    "P0 = vh\n"
   ]
  }
 ],
 "metadata": {
  "kernelspec": {
   "display_name": "Python [Root]",
   "language": "python",
   "name": "Python [Root]"
  },
  "language_info": {
   "codemirror_mode": {
    "name": "ipython",
    "version": 3
   },
   "file_extension": ".py",
   "mimetype": "text/x-python",
   "name": "python",
   "nbconvert_exporter": "python",
   "pygments_lexer": "ipython3",
   "version": "3.5.2"
  }
 },
 "nbformat": 4,
 "nbformat_minor": 0
}
